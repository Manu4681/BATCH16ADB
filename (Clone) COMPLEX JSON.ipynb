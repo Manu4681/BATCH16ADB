{
 "cells": [
  {
   "cell_type": "code",
   "execution_count": 0,
   "metadata": {
    "application/vnd.databricks.v1+cell": {
     "cellMetadata": {
      "byteLimit": 2048000,
      "rowLimit": 10000
     },
     "inputWidgets": {},
     "nuid": "089bc58b-4704-4a52-833d-309445dd3b3f",
     "showTitle": false,
     "tableResultSettingsMap": {},
     "title": ""
    }
   },
   "outputs": [],
   "source": [
    "from pyspark.sql.types import *\n",
    "from pyspark.sql.functions import *\n",
    "from pyspark.sql.functions import explode_outer"
   ]
  },
  {
   "cell_type": "code",
   "execution_count": 0,
   "metadata": {
    "application/vnd.databricks.v1+cell": {
     "cellMetadata": {
      "byteLimit": 2048000,
      "rowLimit": 10000
     },
     "inputWidgets": {},
     "nuid": "a6dd4c5e-7db2-4482-8b56-31e253e31122",
     "showTitle": false,
     "tableResultSettingsMap": {},
     "title": ""
    }
   },
   "outputs": [],
   "source": [
    "DATA = [{\n",
    "    \"school_name\": \"Dunder Miflin\",\n",
    "    \"class\": \"Year 1\",\n",
    "    \"students\": [\n",
    "    {\n",
    "        \"id\": \"A1\",\n",
    "        \"name\": \"Jim\",\n",
    "        \"grade\": {\n",
    "            \"math\": 60,\n",
    "            \"physics\": 66,\n",
    "            \"chemistry\": 61\n",
    "        }\n",
    "  \n",
    "    },\n",
    "    {\n",
    "        \"id\": \"A2\",\n",
    "        \"name\": \"Dwight\",\n",
    "        \"grade\": {\n",
    "            \"math\": 89,\n",
    "            \"physics\": 76,\n",
    "            \"chemistry\": 51\n",
    "        }\n",
    "        \n",
    "    },\n",
    "    {\n",
    "        \"id\": \"A3\",\n",
    "        \"name\": \"Kevin\",\n",
    "        \"grade\": {\n",
    "            \"math\": 79,\n",
    "            \"physics\": 90,\n",
    "            \"chemistry\": 78\n",
    "        }\n",
    "    }]\n",
    "}]"
   ]
  },
  {
   "cell_type": "code",
   "execution_count": 0,
   "metadata": {
    "application/vnd.databricks.v1+cell": {
     "cellMetadata": {
      "byteLimit": 2048000,
      "rowLimit": 10000
     },
     "inputWidgets": {},
     "nuid": "666fe45e-4c48-40ec-80d6-e3c3dddeab7b",
     "showTitle": false,
     "tableResultSettingsMap": {},
     "title": ""
    }
   },
   "outputs": [],
   "source": [
    "S1=StructType([\n",
    "    StructField(\"school_name\", StringType(), True),\n",
    "    StructField(\"class\", StringType(), True),\n",
    "    StructField(\"students\", ArrayType(\n",
    "        StructType([\n",
    "            StructField(\"id\", StringType(), True),\n",
    "            StructField(\"name\", StringType(), True),\n",
    "            StructField(\"grade\", StructType([\n",
    "                StructField(\"math\", IntegerType(), True),\n",
    "                StructField(\"physics\", IntegerType(), True),\n",
    "                StructField(\"chemistry\", IntegerType(), True)\n",
    "            ]))\n",
    "        ])\n",
    "    ))\n",
    "])\n",
    "df = spark.createDataFrame(DATA, schema=S1)\n",
    "display(df)\n",
    "    "
   ]
  },
  {
   "cell_type": "code",
   "execution_count": 0,
   "metadata": {
    "application/vnd.databricks.v1+cell": {
     "cellMetadata": {
      "byteLimit": 2048000,
      "rowLimit": 10000
     },
     "inputWidgets": {},
     "nuid": "a4b836fc-7445-46b9-bf1b-0f779fdaa927",
     "showTitle": false,
     "tableResultSettingsMap": {},
     "title": ""
    }
   },
   "outputs": [],
   "source": [
    "df1=df.select('school_name','class',explode_outer('students').alias('student'))"
   ]
  },
  {
   "cell_type": "code",
   "execution_count": 0,
   "metadata": {
    "application/vnd.databricks.v1+cell": {
     "cellMetadata": {
      "byteLimit": 2048000,
      "rowLimit": 10000
     },
     "inputWidgets": {},
     "nuid": "5789fdfc-06a8-459b-aabf-8423093762fb",
     "showTitle": false,
     "tableResultSettingsMap": {},
     "title": ""
    }
   },
   "outputs": [],
   "source": [
    "df1.select('school_name','class',col('student.id').alias('student_id'),col('student.name').alias('student_name'),col('student.grade.math').alias('student_grade_math'),col('student.grade.physics').alias('student_grade_physics'),col('student.grade.chemistry').alias('student_grade_chemistry')).display()"
   ]
  }
 ],
 "metadata": {
  "application/vnd.databricks.v1+notebook": {
   "computePreferences": null,
   "dashboards": [],
   "environmentMetadata": {
    "base_environment": "",
    "environment_version": "2"
   },
   "inputWidgetPreferences": null,
   "language": "python",
   "notebookMetadata": {
    "pythonIndentUnit": 4
   },
   "notebookName": "(Clone) COMPLEX JSON",
   "widgets": {}
  },
  "language_info": {
   "name": "python"
  }
 },
 "nbformat": 4,
 "nbformat_minor": 0
}
